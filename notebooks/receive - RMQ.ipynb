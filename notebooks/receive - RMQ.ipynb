{
 "cells": [
  {
   "cell_type": "code",
   "execution_count": null,
   "metadata": {},
   "outputs": [
    {
     "name": "stdout",
     "output_type": "stream",
     "text": [
      " [*] Waiting for messages. To exit press CTRL+C\n"
     ]
    }
   ],
   "source": [
    "import pika, sys, os\n",
    "\n",
    "def main():\n",
    "    connection = pika.BlockingConnection(pika.ConnectionParameters(host='localhost'))\n",
    "    channel = connection.channel()\n",
    "\n",
    "    channel.queue_declare(queue='hello')\n",
    "\n",
    "    def callback(ch, method, properties, body):\n",
    "        print(\" [x] Received %r\" % body)\n",
    "\n",
    "    channel.basic_consume(queue='hello', on_message_callback=callback, auto_ack=True)\n",
    "\n",
    "    print(' [*] Waiting for messages. To exit press CTRL+C')\n",
    "    channel.start_consuming()\n",
    "\n",
    "if __name__ == '__main__':\n",
    "    try:\n",
    "        main()\n",
    "    except KeyboardInterrupt:\n",
    "        print('Interrupted')\n",
    "        try:\n",
    "            sys.exit(0)\n",
    "        except SystemExit:\n",
    "            os._exit(0)"
   ]
  },
  {
   "cell_type": "code",
   "execution_count": null,
   "metadata": {},
   "outputs": [],
   "source": []
  }
 ],
 "metadata": {
  "kernelspec": {
   "display_name": "Python 3",
   "language": "python",
   "name": "python3"
  },
  "language_info": {
   "codemirror_mode": {
    "name": "ipython",
    "version": 3
   },
   "file_extension": ".py",
   "mimetype": "text/x-python",
   "name": "python",
   "nbconvert_exporter": "python",
   "pygments_lexer": "ipython3",
   "version": "3.7.3"
  }
 },
 "nbformat": 4,
 "nbformat_minor": 2
}
